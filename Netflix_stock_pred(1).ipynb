{
 "cells": [
  {
   "cell_type": "code",
   "execution_count": 1,
   "id": "a7c6905d-3e77-4a98-8d1a-6f5894096a86",
   "metadata": {},
   "outputs": [],
   "source": [
    "import numpy as np\n",
    "import pandas as pd\n",
    "import matplotlib.pyplot as plt"
   ]
  },
  {
   "cell_type": "code",
   "execution_count": 2,
   "id": "cc3d08d3-9a8f-4c99-873f-8fc4084288b5",
   "metadata": {},
   "outputs": [],
   "source": [
    "df = pd.read_csv('NFLX (11-11-2002)-(11-11-2022).csv')"
   ]
  },
  {
   "cell_type": "code",
   "execution_count": 3,
   "id": "01ee33ac-6046-4516-8b56-4c1713f40036",
   "metadata": {},
   "outputs": [
    {
     "name": "stdout",
     "output_type": "stream",
     "text": [
      "<class 'pandas.core.frame.DataFrame'>\n",
      "RangeIndex: 5036 entries, 0 to 5035\n",
      "Data columns (total 7 columns):\n",
      " #   Column     Non-Null Count  Dtype  \n",
      "---  ------     --------------  -----  \n",
      " 0   Date       5036 non-null   object \n",
      " 1   Open       5036 non-null   float64\n",
      " 2   High       5036 non-null   float64\n",
      " 3   Low        5036 non-null   float64\n",
      " 4   Close      5036 non-null   float64\n",
      " 5   Adj Close  5036 non-null   float64\n",
      " 6   Volume     5036 non-null   int64  \n",
      "dtypes: float64(5), int64(1), object(1)\n",
      "memory usage: 275.5+ KB\n"
     ]
    }
   ],
   "source": [
    "df.info()"
   ]
  },
  {
   "cell_type": "code",
   "execution_count": 4,
   "id": "eb87d35c-c335-4cb0-a5c0-486354982c62",
   "metadata": {},
   "outputs": [
    {
     "data": {
      "text/html": [
       "<div>\n",
       "<style scoped>\n",
       "    .dataframe tbody tr th:only-of-type {\n",
       "        vertical-align: middle;\n",
       "    }\n",
       "\n",
       "    .dataframe tbody tr th {\n",
       "        vertical-align: top;\n",
       "    }\n",
       "\n",
       "    .dataframe thead th {\n",
       "        text-align: right;\n",
       "    }\n",
       "</style>\n",
       "<table border=\"1\" class=\"dataframe\">\n",
       "  <thead>\n",
       "    <tr style=\"text-align: right;\">\n",
       "      <th></th>\n",
       "      <th>Open</th>\n",
       "      <th>High</th>\n",
       "      <th>Low</th>\n",
       "      <th>Close</th>\n",
       "      <th>Adj Close</th>\n",
       "      <th>Volume</th>\n",
       "    </tr>\n",
       "  </thead>\n",
       "  <tbody>\n",
       "    <tr>\n",
       "      <th>count</th>\n",
       "      <td>5036.000000</td>\n",
       "      <td>5036.000000</td>\n",
       "      <td>5036.000000</td>\n",
       "      <td>5036.000000</td>\n",
       "      <td>5036.000000</td>\n",
       "      <td>5.036000e+03</td>\n",
       "    </tr>\n",
       "    <tr>\n",
       "      <th>mean</th>\n",
       "      <td>121.587465</td>\n",
       "      <td>123.483249</td>\n",
       "      <td>119.595197</td>\n",
       "      <td>121.589534</td>\n",
       "      <td>121.589534</td>\n",
       "      <td>1.668009e+07</td>\n",
       "    </tr>\n",
       "    <tr>\n",
       "      <th>std</th>\n",
       "      <td>168.697560</td>\n",
       "      <td>171.126821</td>\n",
       "      <td>166.063998</td>\n",
       "      <td>168.631558</td>\n",
       "      <td>168.631558</td>\n",
       "      <td>1.916723e+07</td>\n",
       "    </tr>\n",
       "    <tr>\n",
       "      <th>min</th>\n",
       "      <td>0.579286</td>\n",
       "      <td>0.607143</td>\n",
       "      <td>0.555714</td>\n",
       "      <td>0.577857</td>\n",
       "      <td>0.577857</td>\n",
       "      <td>3.710000e+05</td>\n",
       "    </tr>\n",
       "    <tr>\n",
       "      <th>25%</th>\n",
       "      <td>4.145714</td>\n",
       "      <td>4.234464</td>\n",
       "      <td>4.075357</td>\n",
       "      <td>4.145714</td>\n",
       "      <td>4.145714</td>\n",
       "      <td>6.332725e+06</td>\n",
       "    </tr>\n",
       "    <tr>\n",
       "      <th>50%</th>\n",
       "      <td>30.794284</td>\n",
       "      <td>31.327143</td>\n",
       "      <td>30.286428</td>\n",
       "      <td>30.796428</td>\n",
       "      <td>30.796428</td>\n",
       "      <td>1.076040e+07</td>\n",
       "    </tr>\n",
       "    <tr>\n",
       "      <th>75%</th>\n",
       "      <td>185.832504</td>\n",
       "      <td>188.270000</td>\n",
       "      <td>182.587502</td>\n",
       "      <td>185.965004</td>\n",
       "      <td>185.965004</td>\n",
       "      <td>1.990012e+07</td>\n",
       "    </tr>\n",
       "    <tr>\n",
       "      <th>max</th>\n",
       "      <td>692.349976</td>\n",
       "      <td>700.989990</td>\n",
       "      <td>686.090027</td>\n",
       "      <td>691.690002</td>\n",
       "      <td>691.690002</td>\n",
       "      <td>3.234140e+08</td>\n",
       "    </tr>\n",
       "  </tbody>\n",
       "</table>\n",
       "</div>"
      ],
      "text/plain": [
       "              Open         High          Low        Close    Adj Close  \\\n",
       "count  5036.000000  5036.000000  5036.000000  5036.000000  5036.000000   \n",
       "mean    121.587465   123.483249   119.595197   121.589534   121.589534   \n",
       "std     168.697560   171.126821   166.063998   168.631558   168.631558   \n",
       "min       0.579286     0.607143     0.555714     0.577857     0.577857   \n",
       "25%       4.145714     4.234464     4.075357     4.145714     4.145714   \n",
       "50%      30.794284    31.327143    30.286428    30.796428    30.796428   \n",
       "75%     185.832504   188.270000   182.587502   185.965004   185.965004   \n",
       "max     692.349976   700.989990   686.090027   691.690002   691.690002   \n",
       "\n",
       "             Volume  \n",
       "count  5.036000e+03  \n",
       "mean   1.668009e+07  \n",
       "std    1.916723e+07  \n",
       "min    3.710000e+05  \n",
       "25%    6.332725e+06  \n",
       "50%    1.076040e+07  \n",
       "75%    1.990012e+07  \n",
       "max    3.234140e+08  "
      ]
     },
     "execution_count": 4,
     "metadata": {},
     "output_type": "execute_result"
    }
   ],
   "source": [
    "df.describe()"
   ]
  },
  {
   "cell_type": "code",
   "execution_count": 5,
   "id": "2be5edee-5f57-4cff-9d12-8b2cddc55c72",
   "metadata": {},
   "outputs": [
    {
     "data": {
      "text/html": [
       "<div>\n",
       "<style scoped>\n",
       "    .dataframe tbody tr th:only-of-type {\n",
       "        vertical-align: middle;\n",
       "    }\n",
       "\n",
       "    .dataframe tbody tr th {\n",
       "        vertical-align: top;\n",
       "    }\n",
       "\n",
       "    .dataframe thead th {\n",
       "        text-align: right;\n",
       "    }\n",
       "</style>\n",
       "<table border=\"1\" class=\"dataframe\">\n",
       "  <thead>\n",
       "    <tr style=\"text-align: right;\">\n",
       "      <th></th>\n",
       "      <th>Date</th>\n",
       "      <th>Open</th>\n",
       "      <th>High</th>\n",
       "      <th>Low</th>\n",
       "      <th>Close</th>\n",
       "      <th>Adj Close</th>\n",
       "      <th>Volume</th>\n",
       "    </tr>\n",
       "  </thead>\n",
       "  <tbody>\n",
       "    <tr>\n",
       "      <th>0</th>\n",
       "      <td>2002-11-11</td>\n",
       "      <td>0.607143</td>\n",
       "      <td>0.607143</td>\n",
       "      <td>0.585714</td>\n",
       "      <td>0.600714</td>\n",
       "      <td>0.600714</td>\n",
       "      <td>371000</td>\n",
       "    </tr>\n",
       "    <tr>\n",
       "      <th>1</th>\n",
       "      <td>2002-11-12</td>\n",
       "      <td>0.600000</td>\n",
       "      <td>0.614286</td>\n",
       "      <td>0.572143</td>\n",
       "      <td>0.577857</td>\n",
       "      <td>0.577857</td>\n",
       "      <td>2191000</td>\n",
       "    </tr>\n",
       "    <tr>\n",
       "      <th>2</th>\n",
       "      <td>2002-11-13</td>\n",
       "      <td>0.579286</td>\n",
       "      <td>0.642857</td>\n",
       "      <td>0.555714</td>\n",
       "      <td>0.641429</td>\n",
       "      <td>0.641429</td>\n",
       "      <td>3231200</td>\n",
       "    </tr>\n",
       "    <tr>\n",
       "      <th>3</th>\n",
       "      <td>2002-11-14</td>\n",
       "      <td>0.642857</td>\n",
       "      <td>0.645000</td>\n",
       "      <td>0.618571</td>\n",
       "      <td>0.618571</td>\n",
       "      <td>0.618571</td>\n",
       "      <td>931000</td>\n",
       "    </tr>\n",
       "    <tr>\n",
       "      <th>4</th>\n",
       "      <td>2002-11-15</td>\n",
       "      <td>0.642143</td>\n",
       "      <td>0.653571</td>\n",
       "      <td>0.589286</td>\n",
       "      <td>0.650000</td>\n",
       "      <td>0.650000</td>\n",
       "      <td>2045400</td>\n",
       "    </tr>\n",
       "    <tr>\n",
       "      <th>...</th>\n",
       "      <td>...</td>\n",
       "      <td>...</td>\n",
       "      <td>...</td>\n",
       "      <td>...</td>\n",
       "      <td>...</td>\n",
       "      <td>...</td>\n",
       "      <td>...</td>\n",
       "    </tr>\n",
       "    <tr>\n",
       "      <th>5031</th>\n",
       "      <td>2022-11-04</td>\n",
       "      <td>272.019989</td>\n",
       "      <td>274.970001</td>\n",
       "      <td>255.320007</td>\n",
       "      <td>260.790009</td>\n",
       "      <td>260.790009</td>\n",
       "      <td>11119200</td>\n",
       "    </tr>\n",
       "    <tr>\n",
       "      <th>5032</th>\n",
       "      <td>2022-11-07</td>\n",
       "      <td>261.059998</td>\n",
       "      <td>261.149994</td>\n",
       "      <td>252.089996</td>\n",
       "      <td>258.600006</td>\n",
       "      <td>258.600006</td>\n",
       "      <td>7927000</td>\n",
       "    </tr>\n",
       "    <tr>\n",
       "      <th>5033</th>\n",
       "      <td>2022-11-08</td>\n",
       "      <td>259.920013</td>\n",
       "      <td>266.079987</td>\n",
       "      <td>256.880005</td>\n",
       "      <td>263.459991</td>\n",
       "      <td>263.459991</td>\n",
       "      <td>7683800</td>\n",
       "    </tr>\n",
       "    <tr>\n",
       "      <th>5034</th>\n",
       "      <td>2022-11-09</td>\n",
       "      <td>259.660004</td>\n",
       "      <td>260.899994</td>\n",
       "      <td>254.220001</td>\n",
       "      <td>254.660004</td>\n",
       "      <td>254.660004</td>\n",
       "      <td>7266000</td>\n",
       "    </tr>\n",
       "    <tr>\n",
       "      <th>5035</th>\n",
       "      <td>2022-11-10</td>\n",
       "      <td>265.989990</td>\n",
       "      <td>275.359985</td>\n",
       "      <td>260.089996</td>\n",
       "      <td>274.970001</td>\n",
       "      <td>274.970001</td>\n",
       "      <td>9667300</td>\n",
       "    </tr>\n",
       "  </tbody>\n",
       "</table>\n",
       "<p>5036 rows × 7 columns</p>\n",
       "</div>"
      ],
      "text/plain": [
       "            Date        Open        High         Low       Close   Adj Close  \\\n",
       "0     2002-11-11    0.607143    0.607143    0.585714    0.600714    0.600714   \n",
       "1     2002-11-12    0.600000    0.614286    0.572143    0.577857    0.577857   \n",
       "2     2002-11-13    0.579286    0.642857    0.555714    0.641429    0.641429   \n",
       "3     2002-11-14    0.642857    0.645000    0.618571    0.618571    0.618571   \n",
       "4     2002-11-15    0.642143    0.653571    0.589286    0.650000    0.650000   \n",
       "...          ...         ...         ...         ...         ...         ...   \n",
       "5031  2022-11-04  272.019989  274.970001  255.320007  260.790009  260.790009   \n",
       "5032  2022-11-07  261.059998  261.149994  252.089996  258.600006  258.600006   \n",
       "5033  2022-11-08  259.920013  266.079987  256.880005  263.459991  263.459991   \n",
       "5034  2022-11-09  259.660004  260.899994  254.220001  254.660004  254.660004   \n",
       "5035  2022-11-10  265.989990  275.359985  260.089996  274.970001  274.970001   \n",
       "\n",
       "        Volume  \n",
       "0       371000  \n",
       "1      2191000  \n",
       "2      3231200  \n",
       "3       931000  \n",
       "4      2045400  \n",
       "...        ...  \n",
       "5031  11119200  \n",
       "5032   7927000  \n",
       "5033   7683800  \n",
       "5034   7266000  \n",
       "5035   9667300  \n",
       "\n",
       "[5036 rows x 7 columns]"
      ]
     },
     "execution_count": 5,
     "metadata": {},
     "output_type": "execute_result"
    }
   ],
   "source": [
    "df"
   ]
  },
  {
   "cell_type": "code",
   "execution_count": 6,
   "id": "b8b42fe1-30ef-4fd3-b2e1-7aa8fa316cb0",
   "metadata": {},
   "outputs": [
    {
     "data": {
      "text/plain": [
       "Date         0\n",
       "Open         0\n",
       "High         0\n",
       "Low          0\n",
       "Close        0\n",
       "Adj Close    0\n",
       "Volume       0\n",
       "dtype: int64"
      ]
     },
     "execution_count": 6,
     "metadata": {},
     "output_type": "execute_result"
    }
   ],
   "source": [
    "df.isnull().sum()"
   ]
  },
  {
   "cell_type": "code",
   "execution_count": 7,
   "id": "2aa9d443-2955-4bef-8c26-dc9edbda2b10",
   "metadata": {},
   "outputs": [
    {
     "data": {
      "text/html": [
       "<div>\n",
       "<style scoped>\n",
       "    .dataframe tbody tr th:only-of-type {\n",
       "        vertical-align: middle;\n",
       "    }\n",
       "\n",
       "    .dataframe tbody tr th {\n",
       "        vertical-align: top;\n",
       "    }\n",
       "\n",
       "    .dataframe thead th {\n",
       "        text-align: right;\n",
       "    }\n",
       "</style>\n",
       "<table border=\"1\" class=\"dataframe\">\n",
       "  <thead>\n",
       "    <tr style=\"text-align: right;\">\n",
       "      <th></th>\n",
       "      <th>Open</th>\n",
       "      <th>High</th>\n",
       "      <th>Low</th>\n",
       "      <th>Close</th>\n",
       "      <th>Adj Close</th>\n",
       "      <th>Volume</th>\n",
       "    </tr>\n",
       "  </thead>\n",
       "  <tbody>\n",
       "    <tr>\n",
       "      <th>Open</th>\n",
       "      <td>1.000000</td>\n",
       "      <td>0.999853</td>\n",
       "      <td>0.999847</td>\n",
       "      <td>0.999677</td>\n",
       "      <td>0.999677</td>\n",
       "      <td>-0.277886</td>\n",
       "    </tr>\n",
       "    <tr>\n",
       "      <th>High</th>\n",
       "      <td>0.999853</td>\n",
       "      <td>1.000000</td>\n",
       "      <td>0.999805</td>\n",
       "      <td>0.999855</td>\n",
       "      <td>0.999855</td>\n",
       "      <td>-0.276556</td>\n",
       "    </tr>\n",
       "    <tr>\n",
       "      <th>Low</th>\n",
       "      <td>0.999847</td>\n",
       "      <td>0.999805</td>\n",
       "      <td>1.000000</td>\n",
       "      <td>0.999846</td>\n",
       "      <td>0.999846</td>\n",
       "      <td>-0.279355</td>\n",
       "    </tr>\n",
       "    <tr>\n",
       "      <th>Close</th>\n",
       "      <td>0.999677</td>\n",
       "      <td>0.999855</td>\n",
       "      <td>0.999846</td>\n",
       "      <td>1.000000</td>\n",
       "      <td>1.000000</td>\n",
       "      <td>-0.277798</td>\n",
       "    </tr>\n",
       "    <tr>\n",
       "      <th>Adj Close</th>\n",
       "      <td>0.999677</td>\n",
       "      <td>0.999855</td>\n",
       "      <td>0.999846</td>\n",
       "      <td>1.000000</td>\n",
       "      <td>1.000000</td>\n",
       "      <td>-0.277798</td>\n",
       "    </tr>\n",
       "    <tr>\n",
       "      <th>Volume</th>\n",
       "      <td>-0.277886</td>\n",
       "      <td>-0.276556</td>\n",
       "      <td>-0.279355</td>\n",
       "      <td>-0.277798</td>\n",
       "      <td>-0.277798</td>\n",
       "      <td>1.000000</td>\n",
       "    </tr>\n",
       "  </tbody>\n",
       "</table>\n",
       "</div>"
      ],
      "text/plain": [
       "               Open      High       Low     Close  Adj Close    Volume\n",
       "Open       1.000000  0.999853  0.999847  0.999677   0.999677 -0.277886\n",
       "High       0.999853  1.000000  0.999805  0.999855   0.999855 -0.276556\n",
       "Low        0.999847  0.999805  1.000000  0.999846   0.999846 -0.279355\n",
       "Close      0.999677  0.999855  0.999846  1.000000   1.000000 -0.277798\n",
       "Adj Close  0.999677  0.999855  0.999846  1.000000   1.000000 -0.277798\n",
       "Volume    -0.277886 -0.276556 -0.279355 -0.277798  -0.277798  1.000000"
      ]
     },
     "execution_count": 7,
     "metadata": {},
     "output_type": "execute_result"
    }
   ],
   "source": [
    "df.corr()"
   ]
  },
  {
   "cell_type": "code",
   "execution_count": 8,
   "id": "3389d0c2-682d-40bc-86c7-00990ca8fe68",
   "metadata": {},
   "outputs": [
    {
     "data": {
      "text/plain": [
       "<AxesSubplot:>"
      ]
     },
     "execution_count": 8,
     "metadata": {},
     "output_type": "execute_result"
    },
    {
     "data": {
      "image/png": "[encoded data removed]",
      "text/plain": [
       "<Figure size 360x360 with 2 Axes>"
      ]
     },
     "metadata": {
      "needs_background": "light"
     },
     "output_type": "display_data"
    }
   ],
   "source": [
    "import seaborn as sns\n",
    "plt.figure(figsize = [5,5])\n",
    "sns.heatmap(df.corr(), cmap = \"magma\", linewidths = 3, annot =True)"
   ]
  },
  {
   "cell_type": "code",
   "execution_count": 9,
   "id": "59e3e790-cb86-48b8-ba94-0b9daa3d930d",
   "metadata": {},
   "outputs": [
    {
     "data": {
      "text/plain": [
       "<Figure size 72x72 with 0 Axes>"
      ]
     },
     "execution_count": 9,
     "metadata": {},
     "output_type": "execute_result"
    },
    {
     "data": {
      "image/png": "[encoded data removed]",
      "text/plain": [
       "<Figure size 475.2x432 with 42 Axes>"
      ]
     },
     "metadata": {
      "needs_background": "light"
     },
     "output_type": "display_data"
    },
    {
     "data": {
      "text/plain": [
       "<Figure size 72x72 with 0 Axes>"
      ]
     },
     "metadata": {},
     "output_type": "display_data"
    }
   ],
   "source": [
    "sns.pairplot(df, height=1, aspect = 1.1)\n",
    "plt.figure(figsize = [1,1])"
   ]
  },
  {
   "cell_type": "code",
   "execution_count": 10,
   "id": "cb64a43b-4156-450f-aec9-a1ba5fd30e99",
   "metadata": {},
   "outputs": [
    {
     "data": {
      "text/html": [
       "<div>\n",
       "<style scoped>\n",
       "    .dataframe tbody tr th:only-of-type {\n",
       "        vertical-align: middle;\n",
       "    }\n",
       "\n",
       "    .dataframe tbody tr th {\n",
       "        vertical-align: top;\n",
       "    }\n",
       "\n",
       "    .dataframe thead th {\n",
       "        text-align: right;\n",
       "    }\n",
       "</style>\n",
       "<table border=\"1\" class=\"dataframe\">\n",
       "  <thead>\n",
       "    <tr style=\"text-align: right;\">\n",
       "      <th></th>\n",
       "      <th>Date</th>\n",
       "      <th>High</th>\n",
       "      <th>Open</th>\n",
       "      <th>Low</th>\n",
       "      <th>Close</th>\n",
       "    </tr>\n",
       "  </thead>\n",
       "  <tbody>\n",
       "    <tr>\n",
       "      <th>0</th>\n",
       "      <td>2002-11-11</td>\n",
       "      <td>0.607143</td>\n",
       "      <td>0.607143</td>\n",
       "      <td>0.585714</td>\n",
       "      <td>0.600714</td>\n",
       "    </tr>\n",
       "    <tr>\n",
       "      <th>1</th>\n",
       "      <td>2002-11-12</td>\n",
       "      <td>0.614286</td>\n",
       "      <td>0.600000</td>\n",
       "      <td>0.572143</td>\n",
       "      <td>0.577857</td>\n",
       "    </tr>\n",
       "    <tr>\n",
       "      <th>2</th>\n",
       "      <td>2002-11-13</td>\n",
       "      <td>0.642857</td>\n",
       "      <td>0.579286</td>\n",
       "      <td>0.555714</td>\n",
       "      <td>0.641429</td>\n",
       "    </tr>\n",
       "    <tr>\n",
       "      <th>3</th>\n",
       "      <td>2002-11-14</td>\n",
       "      <td>0.645000</td>\n",
       "      <td>0.642857</td>\n",
       "      <td>0.618571</td>\n",
       "      <td>0.618571</td>\n",
       "    </tr>\n",
       "    <tr>\n",
       "      <th>4</th>\n",
       "      <td>2002-11-15</td>\n",
       "      <td>0.653571</td>\n",
       "      <td>0.642143</td>\n",
       "      <td>0.589286</td>\n",
       "      <td>0.650000</td>\n",
       "    </tr>\n",
       "    <tr>\n",
       "      <th>...</th>\n",
       "      <td>...</td>\n",
       "      <td>...</td>\n",
       "      <td>...</td>\n",
       "      <td>...</td>\n",
       "      <td>...</td>\n",
       "    </tr>\n",
       "    <tr>\n",
       "      <th>5031</th>\n",
       "      <td>2022-11-04</td>\n",
       "      <td>274.970001</td>\n",
       "      <td>272.019989</td>\n",
       "      <td>255.320007</td>\n",
       "      <td>260.790009</td>\n",
       "    </tr>\n",
       "    <tr>\n",
       "      <th>5032</th>\n",
       "      <td>2022-11-07</td>\n",
       "      <td>261.149994</td>\n",
       "      <td>261.059998</td>\n",
       "      <td>252.089996</td>\n",
       "      <td>258.600006</td>\n",
       "    </tr>\n",
       "    <tr>\n",
       "      <th>5033</th>\n",
       "      <td>2022-11-08</td>\n",
       "      <td>266.079987</td>\n",
       "      <td>259.920013</td>\n",
       "      <td>256.880005</td>\n",
       "      <td>263.459991</td>\n",
       "    </tr>\n",
       "    <tr>\n",
       "      <th>5034</th>\n",
       "      <td>2022-11-09</td>\n",
       "      <td>260.899994</td>\n",
       "      <td>259.660004</td>\n",
       "      <td>254.220001</td>\n",
       "      <td>254.660004</td>\n",
       "    </tr>\n",
       "    <tr>\n",
       "      <th>5035</th>\n",
       "      <td>2022-11-10</td>\n",
       "      <td>275.359985</td>\n",
       "      <td>265.989990</td>\n",
       "      <td>260.089996</td>\n",
       "      <td>274.970001</td>\n",
       "    </tr>\n",
       "  </tbody>\n",
       "</table>\n",
       "<p>5036 rows × 5 columns</p>\n",
       "</div>"
      ],
      "text/plain": [
       "            Date        High        Open         Low       Close\n",
       "0     2002-11-11    0.607143    0.607143    0.585714    0.600714\n",
       "1     2002-11-12    0.614286    0.600000    0.572143    0.577857\n",
       "2     2002-11-13    0.642857    0.579286    0.555714    0.641429\n",
       "3     2002-11-14    0.645000    0.642857    0.618571    0.618571\n",
       "4     2002-11-15    0.653571    0.642143    0.589286    0.650000\n",
       "...          ...         ...         ...         ...         ...\n",
       "5031  2022-11-04  274.970001  272.019989  255.320007  260.790009\n",
       "5032  2022-11-07  261.149994  261.059998  252.089996  258.600006\n",
       "5033  2022-11-08  266.079987  259.920013  256.880005  263.459991\n",
       "5034  2022-11-09  260.899994  259.660004  254.220001  254.660004\n",
       "5035  2022-11-10  275.359985  265.989990  260.089996  274.970001\n",
       "\n",
       "[5036 rows x 5 columns]"
      ]
     },
     "execution_count": 10,
     "metadata": {},
     "output_type": "execute_result"
    }
   ],
   "source": [
    "nflx_df=df[['Date','High','Open','Low','Close']]\n",
    "nflx_df"
   ]
  },
  {
   "cell_type": "code",
   "execution_count": 11,
   "id": "aa5ef9a5-1b36-433c-bb93-b99b99a98fc2",
   "metadata": {},
   "outputs": [
    {
     "data": {
      "image/png": "[encoded data removed]",
      "text/plain": [
       "<Figure size 720x360 with 1 Axes>"
      ]
     },
     "metadata": {
      "needs_background": "light"
     },
     "output_type": "display_data"
    }
   ],
   "source": [
    "plt.figure(figsize=(10,5))\n",
    "plt.title('Netflix Stocks Closing Price History 2002-2022')\n",
    "plt.plot(nflx_df['Date'],nflx_df['Close'])\n",
    "plt.xlabel('Date',fontsize=18)\n",
    "plt.ylabel('Close Price US($)',fontsize=18)\n",
    "plt.style.use('fivethirtyeight')\n",
    "plt.show()"
   ]
  },
  {
   "cell_type": "code",
   "execution_count": 111,
   "id": "d4317777-5262-488b-9697-b990d2959f8a",
   "metadata": {},
   "outputs": [
    {
     "data": {
      "image/png": "[encoded data removed]",
      "text/plain": [
       "<Figure size 720x360 with 1 Axes>"
      ]
     },
     "metadata": {},
     "output_type": "display_data"
    }
   ],
   "source": [
    "nflx_df[['Open','Close']].head(20).plot(kind='bar',figsize=(10,5))\n",
    "plt.grid(linestyle='-', linewidth='0.5', color='green')\n",
    "plt.show()"
   ]
  },
  {
   "cell_type": "code",
   "execution_count": 108,
   "id": "80617707-13e7-4fff-a0bb-126898cf960a",
   "metadata": {},
   "outputs": [
    {
     "data": {
      "image/png": "[encoded data removed]",
      "text/plain": [
       "<Figure size 1152x576 with 1 Axes>"
      ]
     },
     "metadata": {},
     "output_type": "display_data"
    }
   ],
   "source": [
    "nflx_df[['High','Close']].head(20).plot(kind='bar',figsize=(16,8))\n",
    "plt.grid(linestyle='-', linewidth='0.5', color='green')\n",
    "plt.show()"
   ]
  },
  {
   "cell_type": "code",
   "execution_count": 80,
   "id": "d113c5a1-ae59-4026-bcb6-852a4d98b5e0",
   "metadata": {},
   "outputs": [
    {
     "data": {
      "image/png": "[encoded data removed]",
      "text/plain": [
       "<Figure size 1152x576 with 1 Axes>"
      ]
     },
     "metadata": {},
     "output_type": "display_data"
    }
   ],
   "source": [
    "nflx_df[['Low','Close']].head(20).plot(kind='bar',figsize=(16,8))\n",
    "plt.grid(linestyle='-', linewidth='0.5', color='green')\n",
    "plt.show()"
   ]
  },
  {
   "cell_type": "code",
   "execution_count": 12,
   "id": "bcb0f168-484b-45a1-85a8-1a440576a570",
   "metadata": {},
   "outputs": [],
   "source": [
    "df['Date'] = pd.to_datetime(df['Date'])\n"
   ]
  },
  {
   "cell_type": "code",
   "execution_count": 13,
   "id": "8ceb45d4-ca86-434e-93fd-ba2cdd11d458",
   "metadata": {},
   "outputs": [],
   "source": [
    "df['Year']=df['Date'].dt.year\n",
    "df['Month']=df['Date'].dt.month\n",
    "df['Day']=df['Date'].dt.day"
   ]
  },
  {
   "cell_type": "code",
   "execution_count": 14,
   "id": "1c6c38c0-6f42-4bbc-b16b-7c7aa1582ecc",
   "metadata": {},
   "outputs": [
    {
     "data": {
      "text/html": [
       "<div>\n",
       "<style scoped>\n",
       "    .dataframe tbody tr th:only-of-type {\n",
       "        vertical-align: middle;\n",
       "    }\n",
       "\n",
       "    .dataframe tbody tr th {\n",
       "        vertical-align: top;\n",
       "    }\n",
       "\n",
       "    .dataframe thead th {\n",
       "        text-align: right;\n",
       "    }\n",
       "</style>\n",
       "<table border=\"1\" class=\"dataframe\">\n",
       "  <thead>\n",
       "    <tr style=\"text-align: right;\">\n",
       "      <th></th>\n",
       "      <th>Day</th>\n",
       "      <th>Month</th>\n",
       "      <th>Year</th>\n",
       "      <th>High</th>\n",
       "      <th>Open</th>\n",
       "      <th>Low</th>\n",
       "      <th>Close</th>\n",
       "    </tr>\n",
       "  </thead>\n",
       "  <tbody>\n",
       "    <tr>\n",
       "      <th>0</th>\n",
       "      <td>11</td>\n",
       "      <td>11</td>\n",
       "      <td>2002</td>\n",
       "      <td>0.607143</td>\n",
       "      <td>0.607143</td>\n",
       "      <td>0.585714</td>\n",
       "      <td>0.600714</td>\n",
       "    </tr>\n",
       "    <tr>\n",
       "      <th>1</th>\n",
       "      <td>12</td>\n",
       "      <td>11</td>\n",
       "      <td>2002</td>\n",
       "      <td>0.614286</td>\n",
       "      <td>0.600000</td>\n",
       "      <td>0.572143</td>\n",
       "      <td>0.577857</td>\n",
       "    </tr>\n",
       "    <tr>\n",
       "      <th>2</th>\n",
       "      <td>13</td>\n",
       "      <td>11</td>\n",
       "      <td>2002</td>\n",
       "      <td>0.642857</td>\n",
       "      <td>0.579286</td>\n",
       "      <td>0.555714</td>\n",
       "      <td>0.641429</td>\n",
       "    </tr>\n",
       "    <tr>\n",
       "      <th>3</th>\n",
       "      <td>14</td>\n",
       "      <td>11</td>\n",
       "      <td>2002</td>\n",
       "      <td>0.645000</td>\n",
       "      <td>0.642857</td>\n",
       "      <td>0.618571</td>\n",
       "      <td>0.618571</td>\n",
       "    </tr>\n",
       "    <tr>\n",
       "      <th>4</th>\n",
       "      <td>15</td>\n",
       "      <td>11</td>\n",
       "      <td>2002</td>\n",
       "      <td>0.653571</td>\n",
       "      <td>0.642143</td>\n",
       "      <td>0.589286</td>\n",
       "      <td>0.650000</td>\n",
       "    </tr>\n",
       "    <tr>\n",
       "      <th>5</th>\n",
       "      <td>18</td>\n",
       "      <td>11</td>\n",
       "      <td>2002</td>\n",
       "      <td>0.780714</td>\n",
       "      <td>0.648571</td>\n",
       "      <td>0.625000</td>\n",
       "      <td>0.778571</td>\n",
       "    </tr>\n",
       "    <tr>\n",
       "      <th>6</th>\n",
       "      <td>19</td>\n",
       "      <td>11</td>\n",
       "      <td>2002</td>\n",
       "      <td>0.720714</td>\n",
       "      <td>0.720000</td>\n",
       "      <td>0.623571</td>\n",
       "      <td>0.664286</td>\n",
       "    </tr>\n",
       "    <tr>\n",
       "      <th>7</th>\n",
       "      <td>20</td>\n",
       "      <td>11</td>\n",
       "      <td>2002</td>\n",
       "      <td>0.727857</td>\n",
       "      <td>0.674286</td>\n",
       "      <td>0.660714</td>\n",
       "      <td>0.717143</td>\n",
       "    </tr>\n",
       "    <tr>\n",
       "      <th>8</th>\n",
       "      <td>21</td>\n",
       "      <td>11</td>\n",
       "      <td>2002</td>\n",
       "      <td>0.785714</td>\n",
       "      <td>0.728571</td>\n",
       "      <td>0.717857</td>\n",
       "      <td>0.785714</td>\n",
       "    </tr>\n",
       "    <tr>\n",
       "      <th>9</th>\n",
       "      <td>22</td>\n",
       "      <td>11</td>\n",
       "      <td>2002</td>\n",
       "      <td>0.800000</td>\n",
       "      <td>0.757143</td>\n",
       "      <td>0.752143</td>\n",
       "      <td>0.786429</td>\n",
       "    </tr>\n",
       "  </tbody>\n",
       "</table>\n",
       "</div>"
      ],
      "text/plain": [
       "   Day  Month  Year      High      Open       Low     Close\n",
       "0   11     11  2002  0.607143  0.607143  0.585714  0.600714\n",
       "1   12     11  2002  0.614286  0.600000  0.572143  0.577857\n",
       "2   13     11  2002  0.642857  0.579286  0.555714  0.641429\n",
       "3   14     11  2002  0.645000  0.642857  0.618571  0.618571\n",
       "4   15     11  2002  0.653571  0.642143  0.589286  0.650000\n",
       "5   18     11  2002  0.780714  0.648571  0.625000  0.778571\n",
       "6   19     11  2002  0.720714  0.720000  0.623571  0.664286\n",
       "7   20     11  2002  0.727857  0.674286  0.660714  0.717143\n",
       "8   21     11  2002  0.785714  0.728571  0.717857  0.785714\n",
       "9   22     11  2002  0.800000  0.757143  0.752143  0.786429"
      ]
     },
     "execution_count": 14,
     "metadata": {},
     "output_type": "execute_result"
    }
   ],
   "source": [
    "nfx_df=df[['Day','Month','Year','High','Open','Low','Close']]\n",
    "nfx_df.head(10)"
   ]
  },
  {
   "cell_type": "code",
   "execution_count": 15,
   "id": "31d51dc9-abbf-46be-a10a-e4a80db4f8b2",
   "metadata": {},
   "outputs": [],
   "source": [
    "X = nfx_df.iloc[:,:-1].values\n",
    "Y = nfx_df.iloc[:,-1].values"
   ]
  },
  {
   "cell_type": "code",
   "execution_count": 16,
   "id": "7441b37f-4085-4be0-9603-b5f1528d450b",
   "metadata": {},
   "outputs": [
    {
     "name": "stdout",
     "output_type": "stream",
     "text": [
      "(5036, 6)\n",
      "(5036,)\n"
     ]
    }
   ],
   "source": [
    "print(X.shape)\n",
    "print(Y.shape)"
   ]
  },
  {
   "cell_type": "code",
   "execution_count": 17,
   "id": "0d7010fb-70bc-48e5-90be-f4db90cb332d",
   "metadata": {},
   "outputs": [
    {
     "name": "stdout",
     "output_type": "stream",
     "text": [
      "(3525, 6)\n",
      "(1511, 6)\n",
      "(3525, 6)\n",
      "(1511,)\n"
     ]
    }
   ],
   "source": [
    "from sklearn.model_selection import train_test_split\n",
    "X_train,X_test,Y_train,Y_test = train_test_split(X,Y,test_size=0.3,random_state = 1)\n",
    "print(X_train.shape) \n",
    "print(X_test.shape) \n",
    "print(X_train.shape) \n",
    "print(Y_test.shape)"
   ]
  },
  {
   "cell_type": "code",
   "execution_count": 18,
   "id": "04037a6e-9dd8-49d3-899a-3abc162ce735",
   "metadata": {},
   "outputs": [
    {
     "name": "stdout",
     "output_type": "stream",
     "text": [
      "(3525, 6)\n",
      "(1511, 6)\n",
      "(3525, 6)\n",
      "(1511,)\n"
     ]
    }
   ],
   "source": [
    "print(X_train.shape) \n",
    "print(X_test.shape) \n",
    "print(X_train.shape) \n",
    "print(Y_test.shape)"
   ]
  },
  {
   "cell_type": "code",
   "execution_count": 19,
   "id": "ddaab3b1-bacc-42f8-8007-f3117703263e",
   "metadata": {},
   "outputs": [],
   "source": [
    "from sklearn.preprocessing import MinMaxScaler\n",
    "norm = MinMaxScaler()\n",
    "norm.fit(X_train)\n",
    "X_train = norm.transform(X_train)\n",
    "X_test = norm.transform(X_test)"
   ]
  },
  {
   "cell_type": "code",
   "execution_count": 42,
   "id": "0c419b9e-de06-4b40-890b-4af9d1dd3210",
   "metadata": {},
   "outputs": [],
   "source": [
    "from sklearn.linear_model import LinearRegression\n",
    "lm = LinearRegression()\n",
    "lm.fit(X_train,Y_train)\n",
    "Y_pred = lm.predict(X_test)"
   ]
  },
  {
   "cell_type": "code",
   "execution_count": 43,
   "id": "6a93f370-529b-4094-ba0a-400cdebe3430",
   "metadata": {},
   "outputs": [
    {
     "name": "stdout",
     "output_type": "stream",
     "text": [
      "0.9998723390946673\n",
      "0.9998691157823688\n"
     ]
    }
   ],
   "source": [
    "print(lm.score(X_train,Y_train))\n",
    "print(lm.score(X_test,Y_test))"
   ]
  },
  {
   "cell_type": "code",
   "execution_count": 44,
   "id": "02dcf054-27ba-415c-8592-092a4166e371",
   "metadata": {},
   "outputs": [],
   "source": [
    "Y_pred = lm.predict(X_test)"
   ]
  },
  {
   "cell_type": "code",
   "execution_count": 45,
   "id": "31a4dfb8-dc14-4258-b839-270c4bb1b37f",
   "metadata": {},
   "outputs": [
    {
     "name": "stdout",
     "output_type": "stream",
     "text": [
      "Accuracy of Linear Regression:  99.98612671426027\n"
     ]
    }
   ],
   "source": [
    "from sklearn.model_selection import cross_val_score\n",
    "val_scr=cross_val_score(lm,X_test,Y_test,cv=10)\n",
    "print(\"Accuracy of Linear Regression: \", val_scr.mean()*100)"
   ]
  },
  {
   "cell_type": "code",
   "execution_count": 46,
   "id": "3aebae62-c6ee-48b5-b9f7-5e63abe74349",
   "metadata": {},
   "outputs": [
    {
     "data": {
      "image/png": "[encoded data removed]",
      "text/plain": [
       "<Figure size 1152x576 with 1 Axes>"
      ]
     },
     "metadata": {},
     "output_type": "display_data"
    }
   ],
   "source": [
    "plot_df=pd.DataFrame({'Actual':Y_test,'Pred':Y_pred})\n",
    "plot_df.head(20).plot(kind='bar',figsize=(16,8))\n",
    "plt.grid(linestyle='-', linewidth='0.5', color='green')\n",
    "plt.show()"
   ]
  },
  {
   "cell_type": "code",
   "execution_count": 49,
   "id": "9cfa0a63-36d1-4026-a728-5868dca2362d",
   "metadata": {},
   "outputs": [
    {
     "data": {
      "text/plain": [
       "{'n_neighbors': 2}"
      ]
     },
     "execution_count": 49,
     "metadata": {},
     "output_type": "execute_result"
    }
   ],
   "source": [
    "from sklearn.neighbors import KNeighborsRegressor\n",
    "from sklearn.model_selection import GridSearchCV\n",
    "params = {'n_neighbors':[2,3,4,5,6,7,8,9]}\n",
    "knn = KNeighborsRegressor()\n",
    "model = GridSearchCV(knn, params, cv=5)\n",
    "model.fit(X_train,Y_train)\n",
    "model.best_params_"
   ]
  },
  {
   "cell_type": "code",
   "execution_count": 56,
   "id": "7c84d969-58b2-4213-9565-abf193cb6f7e",
   "metadata": {},
   "outputs": [
    {
     "name": "stdout",
     "output_type": "stream",
     "text": [
      "Accuracy of KNN regression:  99.40916880087136\n"
     ]
    }
   ],
   "source": [
    "val_knn_scr=cross_val_score(knn,X_test,Y_test,cv=2)\n",
    "print(\"Accuracy of KNN regression: \", val_knn_scr.mean()*100)"
   ]
  },
  {
   "cell_type": "code",
   "execution_count": 57,
   "id": "2bb350a7-16bd-47a1-9824-04e726ec93d1",
   "metadata": {},
   "outputs": [
    {
     "data": {
      "image/png": "[encoded data removed]",
      "text/plain": [
       "<Figure size 1152x576 with 1 Axes>"
      ]
     },
     "metadata": {},
     "output_type": "display_data"
    }
   ],
   "source": [
    "plot_df=pd.DataFrame({'Actual':Y_test,'Pred':Y_knnpred})\n",
    "plot_df.head(20).plot(kind='bar',figsize=(16,8))\n",
    "plt.grid(linestyle='-', linewidth='0.5', color='green')\n",
    "plt.show()"
   ]
  },
  {
   "cell_type": "code",
   "execution_count": 51,
   "id": "f25be8b5-02d4-4f37-8e0f-8e09c51e1954",
   "metadata": {},
   "outputs": [],
   "source": [
    "from sklearn.svm import SVR\n",
    "svm_regressor = SVR(kernel='linear')\n",
    "svm=svm_regressor.fit(X_train,Y_train)\n",
    "Y_svmpred=svm.predict(X_test)"
   ]
  },
  {
   "cell_type": "code",
   "execution_count": 52,
   "id": "0ed2a345-0ad6-4f77-8450-e16d8e208151",
   "metadata": {},
   "outputs": [
    {
     "name": "stdout",
     "output_type": "stream",
     "text": [
      "Accuracy of SVM Regression:  97.11830488002003\n"
     ]
    }
   ],
   "source": [
    "val_svm_scr=cross_val_score(svm,X_test,Y_test,cv=22)\n",
    "print(\"Accuracy of SVM Regression: \", val_svm_scr.mean()*100)"
   ]
  },
  {
   "cell_type": "code",
   "execution_count": 53,
   "id": "38a33e42-f5e8-49a9-8872-16cb4c54ad1a",
   "metadata": {},
   "outputs": [],
   "source": [
    "from sklearn.metrics import mean_squared_error , r2_score\n",
    "import math"
   ]
  },
  {
   "cell_type": "code",
   "execution_count": 54,
   "id": "3c958630-dfb1-41be-a5f2-14344e665b6c",
   "metadata": {},
   "outputs": [
    {
     "name": "stdout",
     "output_type": "stream",
     "text": [
      "Linear Model Root mean square error 1.9364921718551842\n",
      "KNN Model Root mean square error 6.314596879765666\n",
      "SVM Model Root mean square error SVM 3.3686180590461507\n"
     ]
    }
   ],
   "source": [
    "lr_mse=math.sqrt(mean_squared_error(Y_test,Y_pred))\n",
    "print('Linear Model Root mean square error',lr_mse)\n",
    "knn_mse=math.sqrt(mean_squared_error(Y_test,Y_knnpred))\n",
    "print('KNN Model Root mean square error',knn_mse)\n",
    "svm_mse=math.sqrt(mean_squared_error(Y_test,Y_svmpred))\n",
    "print('SVM Model Root mean square error SVM',svm_mse)"
   ]
  },
  {
   "cell_type": "code",
   "execution_count": 55,
   "id": "7e01a0e5-5388-4e72-8979-ed90a625fd32",
   "metadata": {},
   "outputs": [
    {
     "name": "stdout",
     "output_type": "stream",
     "text": [
      "Linear R2:  0.9998691157823688\n",
      "KNN R2:  0.9986082954368497\n",
      "SVM R2:  0.9996039415030377\n"
     ]
    }
   ],
   "source": [
    "print('Linear R2: ', r2_score(Y_test, Y_pred))\n",
    "print('KNN R2: ', r2_score(Y_test, Y_knnpred))\n",
    "print('SVM R2: ', r2_score(Y_test, Y_svmpred))"
   ]
  },
  {
   "cell_type": "code",
   "execution_count": 41,
   "id": "1e755c77-f36d-475b-882b-b6244e906c7c",
   "metadata": {},
   "outputs": [
    {
     "name": "stdout",
     "output_type": "stream",
     "text": [
      "Accuracy of Linear Regression:  99.98612671426027\n",
      "Accuracy of KNN regression:  99.6243826345194\n",
      "Accuracy of SVM Regression:  97.11830488002003\n"
     ]
    }
   ],
   "source": [
    "print(\"Accuracy of Linear Regression: \", val_scr.mean()*100)\n",
    "print(\"Accuracy of KNN regression: \", val_knn_scr.mean()*100)\n",
    "print(\"Accuracy of SVM Regression: \", val_svm_scr.mean()*100)"
   ]
  },
  {
   "cell_type": "code",
   "execution_count": null,
   "id": "3080713a-b20c-41f2-96e7-0480a72ddb88",
   "metadata": {},
   "outputs": [],
   "source": []
  }
 ],
 "metadata": {
  "kernelspec": {
   "display_name": "Python 3 (ipykernel)",
   "language": "python",
   "name": "python3"
  },
  "language_info": {
   "codemirror_mode": {
    "name": "ipython",
    "version": 3
   },
   "file_extension": ".py",
   "mimetype": "text/x-python",
   "name": "python",
   "nbconvert_exporter": "python",
   "pygments_lexer": "ipython3",
   "version": "3.9.12"
  }
 },
 "nbformat": 4,
 "nbformat_minor": 5
}
